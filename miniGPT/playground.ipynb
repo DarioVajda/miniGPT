{
 "cells": [
  {
   "cell_type": "markdown",
   "metadata": {},
   "source": [
    "# Working with the dataset"
   ]
  },
  {
   "cell_type": "markdown",
   "metadata": {},
   "source": [
    "Loading the dataset:"
   ]
  },
  {
   "cell_type": "code",
   "execution_count": 53,
   "metadata": {},
   "outputs": [],
   "source": [
    "with open('input.txt', 'r', encoding='utf-8') as f:\n",
    "    text = f.read()"
   ]
  },
  {
   "cell_type": "code",
   "execution_count": 54,
   "metadata": {},
   "outputs": [
    {
     "name": "stdout",
     "output_type": "stream",
     "text": [
      "1115393\n",
      "First Citizen:\n",
      "Before we proceed any further, hear me speak.\n",
      "\n",
      "All:\n",
      "Speak, speak.\n",
      "\n",
      "First Citizen:\n",
      "You are all resolved rather to die than to famish?\n",
      "\n",
      "All:\n",
      "Resolved. resolved.\n",
      "\n",
      "First Citizen:\n",
      "First, you know Caius Marcius is chief enemy to the people.\n",
      "\n",
      "All:\n",
      "We know't, we know't.\n",
      "\n",
      "First Citizen:\n",
      "Let us kill him, and we'll have corn at our own price.\n",
      "Is't a verdict?\n",
      "\n",
      "All:\n",
      "No more talking on't; let it be done: away, away!\n",
      "\n",
      "Second Citizen:\n",
      "One word, good citizens.\n",
      "\n",
      "First Citizen:\n",
      "We are accounted poor citizens, the patricians good.\n",
      "What authority surfeits on would relieve us: if they\n",
      "would yield us but the superfluity, while it were\n",
      "wholesome, we might guess they relieved us humanely;\n",
      "but they think we are too dear: the leanness that\n",
      "afflicts us, the object of our misery, is as an\n",
      "inventory to particularise their abundance; our\n",
      "sufferance is a gain to them Let us revenge this with\n",
      "our pikes, ere we become rakes: for the gods know I\n",
      "speak this in hunger for bread, not in thirst for revenge.\n",
      "\n",
      "\n"
     ]
    }
   ],
   "source": [
    "# See the size of the dataset:\n",
    "print(len(text))\n",
    "\n",
    "# Print the first 1000 characters of the text:\n",
    "print(text[:1000])"
   ]
  },
  {
   "cell_type": "markdown",
   "metadata": {},
   "source": [
    "Creating the vocabulary:"
   ]
  },
  {
   "cell_type": "code",
   "execution_count": 55,
   "metadata": {},
   "outputs": [
    {
     "name": "stdout",
     "output_type": "stream",
     "text": [
      "\n",
      " !$&',-.3:;?ABCDEFGHIJKLMNOPQRSTUVWXYZabcdefghijklmnopqrstuvwxyz\n",
      "65\n"
     ]
    }
   ],
   "source": [
    "chars = sorted(list(set(text)))\n",
    "vocab_size = len(chars)\n",
    "print(''.join(chars))\n",
    "print(vocab_size)"
   ]
  },
  {
   "cell_type": "markdown",
   "metadata": {},
   "source": [
    "**Tokenization**"
   ]
  },
  {
   "cell_type": "code",
   "execution_count": 56,
   "metadata": {},
   "outputs": [
    {
     "name": "stdout",
     "output_type": "stream",
     "text": [
      "[20, 43, 50, 50, 53, 1, 35, 53, 56, 50, 42, 2]\n",
      "Hello world!\n"
     ]
    }
   ],
   "source": [
    "stoi = {ch: i for i, ch in enumerate(chars)}\n",
    "itos = {i: ch for i, ch in enumerate(chars)}\n",
    "encode = lambda x: [stoi[ch] for ch in x]\n",
    "decode = lambda x: ''.join([itos[i] for i in x])\n",
    "\n",
    "print(encode(\"Hello World!\"))\n",
    "print(decode(encode(\"Hello world!\")))"
   ]
  },
  {
   "cell_type": "markdown",
   "metadata": {},
   "source": [
    "*Note* - This is character-wise encoding-decoding, but here are examples of others, more complex, approaches:\n",
    "- SentencePiece (Google) - https://github.com/google/sentencepiece\n",
    "- TikToken (OpenAI) - https://github.com/openai/tiktoken"
   ]
  },
  {
   "cell_type": "markdown",
   "metadata": {},
   "source": [
    "Encoding the entire dataset text:"
   ]
  },
  {
   "cell_type": "code",
   "execution_count": 57,
   "metadata": {},
   "outputs": [
    {
     "name": "stdout",
     "output_type": "stream",
     "text": [
      "torch.Size([1115393]) torch.int64\n",
      "tensor([18, 47, 56, 57, 58,  1, 15, 47, 58, 47, 64, 43, 52, 10,  0, 14, 43, 44,\n",
      "        53, 56, 43,  1, 61, 43,  1, 54, 56, 53, 41, 43, 43, 42,  1, 39, 52, 63,\n",
      "         1, 44, 59, 56, 58, 46, 43, 56,  6,  1, 46, 43, 39, 56,  1, 51, 43,  1,\n",
      "        57, 54, 43, 39, 49,  8,  0,  0, 13, 50, 50, 10,  0, 31, 54, 43, 39, 49,\n",
      "         6,  1, 57, 54, 43, 39, 49,  8,  0,  0, 18, 47, 56, 57, 58,  1, 15, 47,\n",
      "        58, 47, 64, 43, 52, 10,  0, 37, 53, 59])\n"
     ]
    }
   ],
   "source": [
    "import torch\n",
    "\n",
    "data = torch.tensor(encode(text), dtype=torch.int64)\n",
    "print(data.shape, data.dtype)\n",
    "print(data[0:100])"
   ]
  },
  {
   "cell_type": "markdown",
   "metadata": {},
   "source": [
    "Train/Validation data split:"
   ]
  },
  {
   "cell_type": "code",
   "execution_count": 58,
   "metadata": {},
   "outputs": [],
   "source": [
    "n = int(len(data) * 0.9)\n",
    "train_data, val_data = data[:n], data[n:]"
   ]
  },
  {
   "cell_type": "code",
   "execution_count": 59,
   "metadata": {},
   "outputs": [
    {
     "data": {
      "text/plain": [
       "tensor([18, 47, 56, 57, 58,  1, 15, 47, 58])"
      ]
     },
     "execution_count": 59,
     "metadata": {},
     "output_type": "execute_result"
    }
   ],
   "source": [
    "context_length = 8\n",
    "train_data[0:context_length + 1]"
   ]
  },
  {
   "cell_type": "markdown",
   "metadata": {},
   "source": [
    "Example of training context and target:"
   ]
  },
  {
   "cell_type": "code",
   "execution_count": 60,
   "metadata": {},
   "outputs": [
    {
     "name": "stdout",
     "output_type": "stream",
     "text": [
      "context: tensor([18]), targe: 47\n",
      "context: tensor([18, 47]), targe: 56\n",
      "context: tensor([18, 47, 56]), targe: 57\n",
      "context: tensor([18, 47, 56, 57]), targe: 58\n",
      "context: tensor([18, 47, 56, 57, 58]), targe: 1\n",
      "context: tensor([18, 47, 56, 57, 58,  1]), targe: 15\n",
      "context: tensor([18, 47, 56, 57, 58,  1, 15]), targe: 47\n",
      "context: tensor([18, 47, 56, 57, 58,  1, 15, 47]), targe: 58\n"
     ]
    }
   ],
   "source": [
    "x = train_data[:context_length]\n",
    "y = train_data[1:context_length + 1]\n",
    "\n",
    "for t in range(context_length):\n",
    "    context = x[:t+1]\n",
    "    target = y[t]\n",
    "    print(f'context: {context}, targe: {target}')"
   ]
  },
  {
   "cell_type": "markdown",
   "metadata": {},
   "source": [
    "Generalising for batch_size>1:"
   ]
  },
  {
   "cell_type": "code",
   "execution_count": null,
   "metadata": {},
   "outputs": [
    {
     "name": "stdout",
     "output_type": "stream",
     "text": [
      "inputs:\n",
      "torch.Size([4, 8])\n",
      "tensor([[53, 59,  6,  1, 58, 56, 47, 40],\n",
      "        [49, 43, 43, 54,  1, 47, 58,  1],\n",
      "        [13, 52, 45, 43, 50, 53,  8,  0],\n",
      "        [ 1, 39,  1, 46, 53, 59, 57, 43]])\n",
      "outputs:\n",
      "torch.Size([4, 8])\n",
      "tensor([[59,  6,  1, 58, 56, 47, 40, 59],\n",
      "        [43, 43, 54,  1, 47, 58,  1, 58],\n",
      "        [52, 45, 43, 50, 53,  8,  0, 26],\n",
      "        [39,  1, 46, 53, 59, 57, 43,  0]])\n",
      "context: tensor([53]), target: 59\n",
      "context: tensor([53, 59]), target: 6\n",
      "context: tensor([53, 59,  6]), target: 1\n",
      "context: tensor([53, 59,  6,  1]), target: 58\n",
      "context: tensor([53, 59,  6,  1, 58]), target: 56\n",
      "context: tensor([53, 59,  6,  1, 58, 56]), target: 47\n",
      "context: tensor([53, 59,  6,  1, 58, 56, 47]), target: 40\n",
      "context: tensor([53, 59,  6,  1, 58, 56, 47, 40]), target: 59\n",
      "context: tensor([49]), target: 43\n",
      "context: tensor([49, 43]), target: 43\n",
      "context: tensor([49, 43, 43]), target: 54\n",
      "context: tensor([49, 43, 43, 54]), target: 1\n",
      "context: tensor([49, 43, 43, 54,  1]), target: 47\n",
      "context: tensor([49, 43, 43, 54,  1, 47]), target: 58\n",
      "context: tensor([49, 43, 43, 54,  1, 47, 58]), target: 1\n",
      "context: tensor([49, 43, 43, 54,  1, 47, 58,  1]), target: 58\n",
      "context: tensor([13]), target: 52\n",
      "context: tensor([13, 52]), target: 45\n",
      "context: tensor([13, 52, 45]), target: 43\n",
      "context: tensor([13, 52, 45, 43]), target: 50\n",
      "context: tensor([13, 52, 45, 43, 50]), target: 53\n",
      "context: tensor([13, 52, 45, 43, 50, 53]), target: 8\n",
      "context: tensor([13, 52, 45, 43, 50, 53,  8]), target: 0\n",
      "context: tensor([13, 52, 45, 43, 50, 53,  8,  0]), target: 26\n",
      "context: tensor([1]), target: 39\n",
      "context: tensor([ 1, 39]), target: 1\n",
      "context: tensor([ 1, 39,  1]), target: 46\n",
      "context: tensor([ 1, 39,  1, 46]), target: 53\n",
      "context: tensor([ 1, 39,  1, 46, 53]), target: 59\n",
      "context: tensor([ 1, 39,  1, 46, 53, 59]), target: 57\n",
      "context: tensor([ 1, 39,  1, 46, 53, 59, 57]), target: 43\n",
      "context: tensor([ 1, 39,  1, 46, 53, 59, 57, 43]), target: 0\n"
     ]
    }
   ],
   "source": [
    "device = torch.device(\"mps\" if torch.backends.mps.is_available() else \"cpu\")\n",
    "\n",
    "torch.manual_seed(1337)\n",
    "batch_size = 4\n",
    "context_length = 8\n",
    "\n",
    "def get_batch(split='train'):\n",
    "    data = train_data if split=='train' else val_data                   # choosing the data from where to take the example\n",
    "    ix = torch.randint(0, len(data) - context_length, (batch_size,))    # choosing the starting index of the example\n",
    "    x = torch.stack([ data[i:i+context_length] for i in ix ])           # creating the context tensor\n",
    "    y = torch.stack([ data[i+1:i+context_length+1] for i in ix])        # creating the target tensor\n",
    "    x, y = x.to(device), y.to(device)                                   # moving the tensors to the device\n",
    "    return x, y\n",
    "\n",
    "xb, yb = get_batch()\n",
    "print('inputs:')\n",
    "print(xb.shape)\n",
    "print(xb)\n",
    "print('outputs:')\n",
    "print(yb.shape)\n",
    "print(yb)\n",
    "\n",
    "for b in range(batch_size):\n",
    "    for t in range(context_length):\n",
    "        context = xb[b, :t+1]\n",
    "        target = yb[b, t]\n",
    "        print(f'context: {context}, target: {target}')"
   ]
  },
  {
   "cell_type": "markdown",
   "metadata": {},
   "source": [
    "# Neural networks"
   ]
  },
  {
   "cell_type": "markdown",
   "metadata": {},
   "source": [
    "### Bigram Language Model"
   ]
  },
  {
   "cell_type": "code",
   "execution_count": 62,
   "metadata": {},
   "outputs": [
    {
     "name": "stdout",
     "output_type": "stream",
     "text": [
      "torch.Size([32, 65]) tensor(4.8948, grad_fn=<NllLossBackward0>)\n",
      "\n",
      "SKIcLT;AcELMoTbvZv C?nq-QE33:CJqkOKH-q;:la!oiywkHjgChzbQ?u!3bLIgwevmyFJGUGp\n",
      "wnYWmnxKWWev-tDqXErVKLgJ\n"
     ]
    }
   ],
   "source": [
    "import torch\n",
    "import torch.nn as nn\n",
    "from torch.nn import functional as F\n",
    "torch.manual_seed(1337)\n",
    "\n",
    "class BigramLanguageModel(nn.Module):\n",
    "    def __init__(self, vocab_size):\n",
    "        super().__init__()\n",
    "        self.token_embedding_table = nn.Embedding(vocab_size, vocab_size)\n",
    "    \n",
    "    def forward(self, idx, targets=None):\n",
    "        # shapes of idx and targets are [batch_size, context_size]\n",
    "        logits = self.token_embedding_table(idx) # shape: [batch_size, context_size, vocab_size]\n",
    "\n",
    "        # F.cross_entropy expects batch_size x CHANNELS x d_2 x d_3...\n",
    "        if targets != None:\n",
    "            B, T, C = logits.shape\n",
    "            logits = logits.view(B*T, C)    \n",
    "            targets = targets.view(B*T)\n",
    "            loss = F.cross_entropy(logits, targets) # shape: [batch_size, vocab_size, context_size]\n",
    "        else:\n",
    "            loss = None\n",
    "\n",
    "        return logits, loss\n",
    "    \n",
    "    def generate(self, idx, max_new_tokens):\n",
    "        for _ in range(max_new_tokens):\n",
    "            logits, loss = self.forward(idx)\n",
    "            logits = logits[:, -1, :]                           # shape: [batch_size, vocab_size] (selecting the last token)\n",
    "            probs = F.softmax(logits, dim=-1)                   # shape: [batch_size, vocab_size]\n",
    "            idx_next = torch.multinomial(probs, num_samples=1)  # shape: [batch_size, 1]\n",
    "            idx = torch.cat([idx, idx_next], dim=1)             # shape: [batch_size, context_size+1]\n",
    "        return idx\n",
    "    \n",
    "bigram_model = BigramLanguageModel(vocab_size)\n",
    "logits, loss = bigram_model(xb, yb)\n",
    "print(logits.shape, loss)\n",
    "\n",
    "print(decode(bigram_model.generate(torch.zeros((1, 1), dtype=torch.long), 100)[0].tolist()))\n"
   ]
  },
  {
   "cell_type": "markdown",
   "metadata": {},
   "source": [
    "Training the Bigram Language Model:"
   ]
  },
  {
   "cell_type": "code",
   "execution_count": null,
   "metadata": {},
   "outputs": [],
   "source": [
    "# device = torch.device(\"mps\" if torch.backends.mps.is_available() else \"cpu\")\n",
    "# device = torch.device('cpu')\n",
    "\n",
    "optimizer = torch.optim.AdamW(bigram_model.parameters(), lr=1e-3)"
   ]
  },
  {
   "cell_type": "code",
   "execution_count": null,
   "metadata": {},
   "outputs": [
    {
     "name": "stdout",
     "output_type": "stream",
     "text": [
      "loss: 2.4782700538635254\n"
     ]
    }
   ],
   "source": [
    "batch_size = 32\n",
    "\n",
    "bigram_model = bigram_model.to(device)\n",
    "\n",
    "for steps in range(10000):\n",
    "    # sampling a batch of data\n",
    "    xb, yb = get_batch()\n",
    "\n",
    "    # evaluate the loss\n",
    "    logits, loss = bigram_model(xb, yb)\n",
    "    optimizer.zero_grad(set_to_none=True)\n",
    "    loss.backward()\n",
    "    optimizer.step()\n",
    "\n",
    "print(f'loss: {loss.item()}')"
   ]
  },
  {
   "cell_type": "code",
   "execution_count": 40,
   "metadata": {},
   "outputs": [
    {
     "name": "stdout",
     "output_type": "stream",
     "text": [
      "\n",
      "NUMPA t hofr tiWhyst o suilout 'de LBererre tssu PAn my tharr gs moona pedealabes;\n",
      "Thew m.\n",
      "Whifoff atoultho?\n",
      "KI t ORipo gleloungithistt:\n",
      "ng, bawne,\n",
      "By\n",
      "A:\n",
      "RDut t?\n",
      "pwanovead her t t APAUESLANEd titrakerath athed s,\n",
      "RI lk.\n",
      "Anordenare pineFFadl wh,\n",
      "T:\n",
      "\n",
      "\n",
      "e t,\n",
      "\n",
      "\n",
      "Wheathas wouns Ply\n",
      "MI lif corndiver ve. he \n"
     ]
    }
   ],
   "source": [
    "# Test the model:\n",
    "print(decode(bigram_model.generate(torch.zeros((1, 1), dtype=torch.long), 300)[0].tolist()))"
   ]
  },
  {
   "cell_type": "markdown",
   "metadata": {},
   "source": [
    "# Self Attention"
   ]
  },
  {
   "cell_type": "markdown",
   "metadata": {},
   "source": [
    "Mathematical trick in self-attention:"
   ]
  },
  {
   "cell_type": "code",
   "execution_count": 65,
   "metadata": {},
   "outputs": [
    {
     "data": {
      "text/plain": [
       "torch.Size([4, 8, 2])"
      ]
     },
     "execution_count": 65,
     "metadata": {},
     "output_type": "execute_result"
    }
   ],
   "source": [
    "torch.manual_seed(1337)\n",
    "\n",
    "B, T, C = 4, 8, 2\n",
    "x = torch.randn(B, T, C)\n",
    "x.shape"
   ]
  },
  {
   "cell_type": "markdown",
   "metadata": {},
   "source": [
    "### 1. Simple form of attention (Average of previous tokens)"
   ]
  },
  {
   "cell_type": "markdown",
   "metadata": {},
   "source": [
    "**Version 1** - Inneficient way to do it:"
   ]
  },
  {
   "cell_type": "code",
   "execution_count": 66,
   "metadata": {},
   "outputs": [
    {
     "name": "stdout",
     "output_type": "stream",
     "text": [
      "tensor([[ 0.1808, -0.0700],\n",
      "        [-0.3596, -0.9152],\n",
      "        [ 0.6258,  0.0255],\n",
      "        [ 0.9545,  0.0643],\n",
      "        [ 0.3612,  1.1679],\n",
      "        [-1.3499, -0.5102],\n",
      "        [ 0.2360, -0.2398],\n",
      "        [-0.9211,  1.5433]])\n",
      "tensor([[ 0.1808, -0.0700],\n",
      "        [-0.0894, -0.4926],\n",
      "        [ 0.1490, -0.3199],\n",
      "        [ 0.3504, -0.2238],\n",
      "        [ 0.3525,  0.0545],\n",
      "        [ 0.0688, -0.0396],\n",
      "        [ 0.0927, -0.0682],\n",
      "        [-0.0341,  0.1332]])\n"
     ]
    }
   ],
   "source": [
    "xbow = torch.zeros((B, T, C)) # bows stands for bag of words\n",
    "for b in range(B):\n",
    "    for t in range(T):\n",
    "        xprev = x[b, :t+1] # Shape [t, C]\n",
    "        xbow[b, t] = torch.mean(xprev, dim=0)\n",
    "\n",
    "print(x[0])\n",
    "print(xbow[0])\n"
   ]
  },
  {
   "cell_type": "markdown",
   "metadata": {},
   "source": [
    "**Version 2** - Efficient way to do it:"
   ]
  },
  {
   "cell_type": "code",
   "execution_count": null,
   "metadata": {},
   "outputs": [
    {
     "name": "stdout",
     "output_type": "stream",
     "text": [
      "tensor([[1.],\n",
      "        [2.],\n",
      "        [3.]])\n",
      "tensor([1., 2., 3.])\n",
      "a=\n",
      "tensor([[1.0000, 0.0000, 0.0000],\n",
      "        [0.5000, 0.5000, 0.0000],\n",
      "        [0.3333, 0.3333, 0.3333]])\n",
      "b=\n",
      "tensor([[2., 7.],\n",
      "        [6., 4.],\n",
      "        [6., 5.]])\n",
      "c=\n",
      "tensor([[2.0000, 7.0000],\n",
      "        [4.0000, 5.5000],\n",
      "        [4.6667, 5.3333]])\n"
     ]
    }
   ],
   "source": [
    "torch.manual_seed(42)\n",
    "a = torch.tril(torch.ones(3, 3))            # lower triangular matrix with ones\n",
    "a = a / torch.sum(a, dim=1, keepdim=True)   # normalizing the rows to sum to 1 (we are calculating the mean)\n",
    "b = torch.randint(0, 10, (3, 2)).float()\n",
    "c = a @ b\n",
    "print('a=')\n",
    "print(a)\n",
    "print('b=')\n",
    "print(b)\n",
    "print('c=')\n",
    "print(c)"
   ]
  },
  {
   "cell_type": "code",
   "execution_count": 76,
   "metadata": {},
   "outputs": [
    {
     "name": "stdout",
     "output_type": "stream",
     "text": [
      "tensor([[ 0.1808, -0.0700],\n",
      "        [-0.0894, -0.4926],\n",
      "        [ 0.1490, -0.3199],\n",
      "        [ 0.3504, -0.2238],\n",
      "        [ 0.3525,  0.0545],\n",
      "        [ 0.0688, -0.0396],\n",
      "        [ 0.0927, -0.0682],\n",
      "        [-0.0341,  0.1332]])\n",
      "True\n"
     ]
    }
   ],
   "source": [
    "weights = torch.tril(torch.ones(T, T))\n",
    "weights = weights / torch.sum(weights, dim=1, keepdim=True)\n",
    "xbow2 = weights @ x\n",
    "print(xbow2[0])\n",
    "print(torch.allclose(xbow, xbow2))"
   ]
  },
  {
   "cell_type": "markdown",
   "metadata": {},
   "source": [
    "**Version 3** - How it's done in practice:"
   ]
  },
  {
   "cell_type": "code",
   "execution_count": 77,
   "metadata": {},
   "outputs": [
    {
     "data": {
      "text/plain": [
       "True"
      ]
     },
     "execution_count": 77,
     "metadata": {},
     "output_type": "execute_result"
    }
   ],
   "source": [
    "tril = torch.tril(torch.ones(T, T))\n",
    "weights3 = torch.zeros((T, T))\n",
    "weights3 = weights3.masked_fill(tril==0, float('-inf'))\n",
    "weights3 = F.softmax(weights3, dim=-1)\n",
    "xbow3 = weights3 @ x\n",
    "torch.allclose(xbow, xbow3)"
   ]
  },
  {
   "cell_type": "markdown",
   "metadata": {},
   "source": [
    "### Self Attention Head"
   ]
  },
  {
   "cell_type": "code",
   "execution_count": null,
   "metadata": {},
   "outputs": [
    {
     "name": "stdout",
     "output_type": "stream",
     "text": [
      "torch.Size([4, 8, 16])\n"
     ]
    }
   ],
   "source": [
    "torch.manual_seed(1337)\n",
    "\n",
    "B, T, C = 4, 8, 32\n",
    "x = torch.randn(B, T, C)\n",
    "\n",
    "tril = torch.tril(torch.ones(T, T))\n",
    "\n",
    "# each token emits a query and a key vector\n",
    "head_size = 16\n",
    "key = nn.Linear(C, head_size, bias=False)\n",
    "query = nn.Linear(C, head_size, bias=False)\n",
    "value = nn.Linear(C, head_size, bias=False)\n",
    "k = key(x)      # shape: [B, T, head_size]\n",
    "q = query(x)    # shape: [B, T, head_size]\n",
    "\n",
    "# computing the attention weights\n",
    "weights = q @ k.transpose(-2, -1)       # shape: [B, T, head_size] @ [B, head_size, T] ---> [B, T, T]\n",
    "weights = weights * head_size**-0.5     # SCALED SELF-ATTENTION\n",
    "weights = weights.masked_fill(tril==0, float('-inf'))\n",
    "weights = F.softmax(weights, dim=-1)\n",
    "\n",
    "v = value(x)    # shape: [B, T, head_size]\n",
    "attention_output = weights @ v          # shape: [B, T, T] @ [B, T, head_size] ---> [B, T, head_size]\n",
    "\n",
    "print(attention_output.shape)"
   ]
  },
  {
   "cell_type": "markdown",
   "metadata": {},
   "source": [
    "*Notes*:\n",
    "- Attention is a communication mechanism. Can be applied to any graph.\n",
    "- There is no notion of space. Nodes are not informed about their (or other) positions in the sequence.\n",
    "- **Self-Attention** <=> keys, queries and the values are coming from the same source\n",
    "- **Cross-Atttention** <=> (queries) from one source, while (keys, values) from another source\n",
    "- *Scaled attention* --> This is done to normalise the variance of the weights (avoiding softmax converging toward one-hot vectors)"
   ]
  }
 ],
 "metadata": {
  "kernelspec": {
   "display_name": "Python 3",
   "language": "python",
   "name": "python3"
  },
  "language_info": {
   "codemirror_mode": {
    "name": "ipython",
    "version": 3
   },
   "file_extension": ".py",
   "mimetype": "text/x-python",
   "name": "python",
   "nbconvert_exporter": "python",
   "pygments_lexer": "ipython3",
   "version": "3.12.1"
  }
 },
 "nbformat": 4,
 "nbformat_minor": 2
}
